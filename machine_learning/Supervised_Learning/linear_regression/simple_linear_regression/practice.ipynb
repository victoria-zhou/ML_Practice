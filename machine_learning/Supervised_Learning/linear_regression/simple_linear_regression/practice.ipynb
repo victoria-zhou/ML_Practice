{
 "cells": [
  {
   "cell_type": "markdown",
   "metadata": {},
   "source": [
    "## Linear Regression\n",
    "- kaggle dummy data, preprocessing\n",
    "- sklearn\n",
    "- own implementation: apply on sklearn.diabetes dataset and kaggle dummy data"
   ]
  },
  {
   "cell_type": "code",
   "execution_count": 1,
   "metadata": {},
   "outputs": [],
   "source": [
    "import pandas as pd\n",
    "import matplotlib.pyplot as plt\n",
    "import numpy as np\n",
    "%matplotlib inline\n",
    "\n",
    "np.set_printoptions(suppress=True)"
   ]
  },
  {
   "cell_type": "markdown",
   "metadata": {},
   "source": [
    "### Load data, check null, fillna or dropna, visualization"
   ]
  },
  {
   "cell_type": "code",
   "execution_count": 144,
   "metadata": {},
   "outputs": [],
   "source": [
    "# only one one data points has null in y value - drop\n",
    "test = pd.read_csv('data/test.csv').dropna()\n",
    "train = pd.read_csv('data/train.csv').dropna()"
   ]
  },
  {
   "cell_type": "code",
   "execution_count": 145,
   "metadata": {},
   "outputs": [
    {
     "data": {
      "image/png": "[encoded data removed]",
      "text/plain": [
       "<Figure size 720x720 with 1 Axes>"
      ]
     },
     "metadata": {
      "needs_background": "light"
     },
     "output_type": "display_data"
    }
   ],
   "source": [
    "fig, ax = plt.subplots(figsize=(10,10))\n",
    "ax.scatter(train['x'], train['y'], label='data', linewidth=0.1, color='red')\n",
    "ax.set_title('dummy data', fontsize=12, color='blue')\n",
    "ax.legend(loc='best')\n",
    "plt.show()"
   ]
  },
  {
   "cell_type": "code",
   "execution_count": 185,
   "metadata": {
    "scrolled": true
   },
   "outputs": [],
   "source": [
    "X_train = np.array(train['x']).reshape(-1,1).astype(int)\n",
    "Y_train = np.array(train['y']).reshape(-1,1).astype(int)\n",
    "X_test = np.array(test['x']).reshape(-1,1).astype(int)\n",
    "Y_test = np.array(test['y']).reshape(-1,1).astype(int)"
   ]
  },
  {
   "cell_type": "code",
   "execution_count": 160,
   "metadata": {},
   "outputs": [
    {
     "data": {
      "text/plain": [
       "(300, 1)"
      ]
     },
     "execution_count": 160,
     "metadata": {},
     "output_type": "execute_result"
    }
   ],
   "source": [
    "X_test.shape"
   ]
  },
  {
   "cell_type": "code",
   "execution_count": 161,
   "metadata": {},
   "outputs": [
    {
     "data": {
      "text/plain": [
       "(300, 1)"
      ]
     },
     "execution_count": 161,
     "metadata": {},
     "output_type": "execute_result"
    }
   ],
   "source": [
    "Y_test.shape"
   ]
  },
  {
   "cell_type": "code",
   "execution_count": 146,
   "metadata": {},
   "outputs": [
    {
     "data": {
      "text/plain": [
       "array([[ 0.01628068, -0.04464164, -0.04716281, ..., -0.03949338,\n",
       "         0.02736771,  0.02791705],\n",
       "       [ 0.0090156 , -0.04464164,  0.04552903, ..., -0.03949338,\n",
       "         0.04613233,  0.03620126],\n",
       "       [ 0.02717829, -0.04464164,  0.00672779, ...,  0.03430886,\n",
       "         0.04067226,  0.01134862],\n",
       "       ...,\n",
       "       [-0.0382074 , -0.04464164, -0.0105172 , ..., -0.00259226,\n",
       "        -0.01811827, -0.01764612],\n",
       "       [-0.01641217, -0.04464164, -0.05255187, ..., -0.03949338,\n",
       "        -0.06832974, -0.03007245],\n",
       "       [ 0.0090156 , -0.04464164, -0.02237314, ..., -0.07085934,\n",
       "        -0.06291295, -0.03835666]], dtype=float32)"
      ]
     },
     "execution_count": 146,
     "metadata": {},
     "output_type": "execute_result"
    }
   ],
   "source": [
    "X_train"
   ]
  },
  {
   "cell_type": "code",
   "execution_count": 11,
   "metadata": {},
   "outputs": [
    {
     "data": {
      "text/plain": [
       "100"
      ]
     },
     "execution_count": 11,
     "metadata": {},
     "output_type": "execute_result"
    }
   ],
   "source": [
    "X_train[:,0].max()"
   ]
  },
  {
   "cell_type": "code",
   "execution_count": 12,
   "metadata": {
    "scrolled": true
   },
   "outputs": [
    {
     "data": {
      "text/plain": [
       "108"
      ]
     },
     "execution_count": 12,
     "metadata": {},
     "output_type": "execute_result"
    }
   ],
   "source": [
    "Y_train[:,0].max()"
   ]
  },
  {
   "cell_type": "markdown",
   "metadata": {},
   "source": [
    "### Using Scikilearn"
   ]
  },
  {
   "cell_type": "code",
   "execution_count": 13,
   "metadata": {},
   "outputs": [],
   "source": [
    "import sklearn\n",
    "from sklearn.linear_model import LinearRegression"
   ]
  },
  {
   "cell_type": "code",
   "execution_count": 14,
   "metadata": {},
   "outputs": [
    {
     "data": {
      "text/plain": [
       "LinearRegression(copy_X=True, fit_intercept=True, n_jobs=None,\n",
       "         normalize=False)"
      ]
     },
     "execution_count": 14,
     "metadata": {},
     "output_type": "execute_result"
    }
   ],
   "source": [
    "regressor = LinearRegression()\n",
    "regressor.fit(X_train, Y_train)"
   ]
  },
  {
   "cell_type": "code",
   "execution_count": 15,
   "metadata": {},
   "outputs": [
    {
     "data": {
      "text/plain": [
       "<matplotlib.legend.Legend at 0x7f82803e3710>"
      ]
     },
     "execution_count": 15,
     "metadata": {},
     "output_type": "execute_result"
    },
    {
     "data": {
      "image/png": "[encoded data removed]",
      "text/plain": [
       "<Figure size 720x720 with 1 Axes>"
      ]
     },
     "metadata": {
      "needs_background": "light"
     },
     "output_type": "display_data"
    }
   ],
   "source": [
    "fig, ax = plt.subplots(figsize=(10,10))\n",
    "ax.scatter(X_train, Y_train, color='orange', linewidth=0.05, label='observed')\n",
    "ax.plot(X_train, regressor.predict(X_train), color='tab:red', linewidth=1, label='regressor')\n",
    "ax.set_xlabel('x')\n",
    "ax.set_ylabel('y')\n",
    "ax.legend()"
   ]
  },
  {
   "cell_type": "code",
   "execution_count": 25,
   "metadata": {},
   "outputs": [],
   "source": [
    "def obtain_matrix(reg, Y_train, X_train, Y_test, X_test):\n",
    "    \n",
    "    print('coef is {}'.format(reg.coef_[0][0]))\n",
    "    print('intercept is {}'.format(reg.intercept_[0]))\n",
    "    print('r2 is {}'.format(sklearn.metrics.r2_score(Y_train, regressor.predict(X_train))))\n",
    "    print('mse is {}'.format(sklearn.metrics.r2_score(Y_test, regressor.predict(X_test))))\n",
    "    \n",
    "    return"
   ]
  },
  {
   "cell_type": "code",
   "execution_count": 26,
   "metadata": {},
   "outputs": [
    {
     "name": "stdout",
     "output_type": "stream",
     "text": [
      "coef is 1.0004468112612355\n",
      "intercept is -0.5688419480583562\n",
      "r2 is 0.9907754943708471\n",
      "mse is 0.9886850442199884\n"
     ]
    }
   ],
   "source": [
    "# There is no correct value for MSE. Simply put, the lower the value the better and \n",
    "# 0 means the model is perfect. Since there is no correct answer, \n",
    "# the MSE's basic value is in selecting one prediction model over another.\n",
    "obtain_matrix(regressor, Y_train, X_train, Y_test, X_test)"
   ]
  },
  {
   "cell_type": "markdown",
   "metadata": {},
   "source": [
    "#### Prediction"
   ]
  },
  {
   "cell_type": "code",
   "execution_count": 19,
   "metadata": {},
   "outputs": [
    {
     "data": {
      "text/plain": [
       "array([[76.46556252],\n",
       "       [20.44054109],\n",
       "       [21.4409879 ],\n",
       "       [19.44009428],\n",
       "       [35.44724326],\n",
       "       [14.43786022],\n",
       "       [61.45886035],\n",
       "       [94.47360512],\n",
       "       [19.44009428],\n",
       "       [ 4.43339211],\n",
       "       [ 3.4329453 ],\n",
       "       [18.43964747],\n",
       "       [95.47405193],\n",
       "       [61.45886035],\n",
       "       [35.44724326],\n",
       "       [14.43786022],\n",
       "       [64.46020078],\n",
       "       [13.43741341],\n",
       "       [86.47003063],\n",
       "       [68.46198803],\n",
       "       [88.47092425],\n",
       "       [50.45394543],\n",
       "       [88.47092425],\n",
       "       [26.44322196],\n",
       "       [96.47449874],\n",
       "       [57.45707311],\n",
       "       [78.46645614],\n",
       "       [20.44054109],\n",
       "       [92.4727115 ],\n",
       "       [26.44322196],\n",
       "       [98.47539237],\n",
       "       [30.4450092 ],\n",
       "       [32.44590282],\n",
       "       [79.46690295],\n",
       "       [27.44366877],\n",
       "       [46.45215818],\n",
       "       [52.45483905],\n",
       "       [68.46198803],\n",
       "       [27.44366877],\n",
       "       [32.44590282],\n",
       "       [90.47181788],\n",
       "       [70.46288165],\n",
       "       [49.45349862],\n",
       "       [75.46511571],\n",
       "       [ 3.4329453 ],\n",
       "       [36.44769007],\n",
       "       [69.46243484],\n",
       "       [67.46154122],\n",
       "       [39.4490305 ],\n",
       "       [34.44679645],\n",
       "       [93.47315831],\n",
       "       [87.47047744],\n",
       "       [51.45439224],\n",
       "       [30.4450092 ],\n",
       "       [58.45751992],\n",
       "       [-0.56884195],\n",
       "       [38.44858369],\n",
       "       [63.45975397],\n",
       "       [68.46198803],\n",
       "       [56.45662629],\n",
       "       [12.4369666 ],\n",
       "       [71.46332846],\n",
       "       [75.46511571],\n",
       "       [60.45841354],\n",
       "       [81.46779658],\n",
       "       [17.43920065],\n",
       "       [40.44947731],\n",
       "       [49.45349862],\n",
       "       [54.45573267],\n",
       "       [12.4369666 ],\n",
       "       [45.45171137],\n",
       "       [12.4369666 ],\n",
       "       [78.46645614],\n",
       "       [52.45483905],\n",
       "       [14.43786022],\n",
       "       [27.44366877],\n",
       "       [80.46734976],\n",
       "       [68.46198803],\n",
       "       [51.45439224],\n",
       "       [83.4686902 ],\n",
       "       [67.46154122],\n",
       "       [26.44322196],\n",
       "       [55.45617948],\n",
       "       [47.45260499],\n",
       "       [39.4490305 ],\n",
       "       [38.44858369],\n",
       "       [81.46779658],\n",
       "       [99.47583918],\n",
       "       [58.45751992],\n",
       "       [42.45037094],\n",
       "       [66.46109441],\n",
       "       [37.44813688],\n",
       "       [62.45930716],\n",
       "       [90.47181788],\n",
       "       [59.45796673],\n",
       "       [13.43741341],\n",
       "       [20.44054109],\n",
       "       [86.47003063],\n",
       "       [72.46377527],\n",
       "       [31.44545601],\n",
       "       [ 1.43205167],\n",
       "       [81.46779658],\n",
       "       [18.43964747],\n",
       "       [73.46422209],\n",
       "       [41.44992412],\n",
       "       [11.43651979],\n",
       "       [ 0.43160486],\n",
       "       [89.47137107],\n",
       "       [88.47092425],\n",
       "       [-0.56884195],\n",
       "       [40.44947731],\n",
       "       [15.43830703],\n",
       "       [93.47315831],\n",
       "       [96.47449874],\n",
       "       [65.4606476 ],\n",
       "       [23.44188152],\n",
       "       [16.43875384],\n",
       "       [89.47137107],\n",
       "       [12.4369666 ],\n",
       "       [-0.56884195],\n",
       "       [63.45975397],\n",
       "       [95.47405193],\n",
       "       [97.47494556],\n",
       "       [11.43651979],\n",
       "       [40.44947731],\n",
       "       [46.45215818],\n",
       "       [77.46600933],\n",
       "       [19.44009428],\n",
       "       [88.47092425],\n",
       "       [28.44411558],\n",
       "       [63.45975397],\n",
       "       [74.4646689 ],\n",
       "       [11.43651979],\n",
       "       [24.44232833],\n",
       "       [27.44366877],\n",
       "       [29.44456239],\n",
       "       [64.46020078],\n",
       "       [58.45751992],\n",
       "       [63.45975397],\n",
       "       [52.45483905],\n",
       "       [70.46288165],\n",
       "       [96.47449874],\n",
       "       [72.46377527],\n",
       "       [ 8.43517935],\n",
       "       [11.43651979],\n",
       "       [62.45930716],\n",
       "       [98.47539237],\n",
       "       [59.45796673],\n",
       "       [34.44679645],\n",
       "       [ 1.43205167],\n",
       "       [59.45796673],\n",
       "       [31.44545601],\n",
       "       [93.47315831],\n",
       "       [83.4686902 ],\n",
       "       [62.45930716],\n",
       "       [21.4409879 ],\n",
       "       [80.46734976],\n",
       "       [92.4727115 ],\n",
       "       [32.44590282],\n",
       "       [ 6.43428573],\n",
       "       [41.44992412],\n",
       "       [45.45171137],\n",
       "       [53.45528586],\n",
       "       [15.43830703],\n",
       "       [48.4530518 ],\n",
       "       [42.45037094],\n",
       "       [94.47360512],\n",
       "       [65.4606476 ],\n",
       "       [20.44054109],\n",
       "       [34.44679645],\n",
       "       [79.46690295],\n",
       "       [36.44769007],\n",
       "       [53.45528586],\n",
       "       [55.45617948],\n",
       "       [ 0.43160486],\n",
       "       [31.44545601],\n",
       "       [57.45707311],\n",
       "       [31.44545601],\n",
       "       [45.45171137],\n",
       "       [71.46332846],\n",
       "       [16.43875384],\n",
       "       [96.47449874],\n",
       "       [92.4727115 ],\n",
       "       [90.47181788],\n",
       "       [36.44769007],\n",
       "       [ 3.4329453 ],\n",
       "       [53.45528586],\n",
       "       [50.45394543],\n",
       "       [26.44322196],\n",
       "       [45.45171137],\n",
       "       [91.47226469],\n",
       "       [72.46377527],\n",
       "       [76.46556252],\n",
       "       [90.47181788],\n",
       "       [60.45841354],\n",
       "       [98.47539237],\n",
       "       [ 3.4329453 ],\n",
       "       [71.46332846],\n",
       "       [18.43964747],\n",
       "       [56.45662629],\n",
       "       [77.46600933],\n",
       "       [25.44277514],\n",
       "       [73.46422209],\n",
       "       [89.47137107],\n",
       "       [65.4606476 ],\n",
       "       [12.4369666 ],\n",
       "       [39.4490305 ],\n",
       "       [76.46556252],\n",
       "       [66.46109441],\n",
       "       [74.4646689 ],\n",
       "       [22.44143471],\n",
       "       [44.45126456],\n",
       "       [58.45751992],\n",
       "       [43.45081775],\n",
       "       [22.44143471],\n",
       "       [54.45573267],\n",
       "       [54.45573267],\n",
       "       [94.47360512],\n",
       "       [11.43651979],\n",
       "       [ 3.4329453 ],\n",
       "       [ 6.43428573],\n",
       "       [99.47583918],\n",
       "       [47.45260499],\n",
       "       [41.44992412],\n",
       "       [95.47405193],\n",
       "       [38.44858369],\n",
       "       [99.47583918],\n",
       "       [86.47003063],\n",
       "       [13.43741341],\n",
       "       [13.43741341],\n",
       "       [36.44769007],\n",
       "       [ 4.43339211],\n",
       "       [87.47047744],\n",
       "       [90.47181788],\n",
       "       [64.46020078],\n",
       "       [73.46422209],\n",
       "       [55.45617948],\n",
       "       [15.43830703],\n",
       "       [ 4.43339211],\n",
       "       [27.44366877],\n",
       "       [91.47226469],\n",
       "       [45.45171137],\n",
       "       [53.45528586],\n",
       "       [38.44858369],\n",
       "       [43.45081775],\n",
       "       [30.4450092 ],\n",
       "       [67.46154122],\n",
       "       [85.46958382],\n",
       "       [89.47137107],\n",
       "       [37.44813688],\n",
       "       [20.44054109],\n",
       "       [94.47360512],\n",
       "       [55.45617948],\n",
       "       [59.45796673],\n",
       "       [64.46020078],\n",
       "       [77.46600933],\n",
       "       [88.47092425],\n",
       "       [ 5.43383892],\n",
       "       [66.46109441],\n",
       "       [35.44724326],\n",
       "       [15.43830703],\n",
       "       [99.47583918],\n",
       "       [44.45126456],\n",
       "       [72.46377527],\n",
       "       [56.45662629],\n",
       "       [19.44009428],\n",
       "       [75.46511571],\n",
       "       [33.44634963],\n",
       "       [54.45573267],\n",
       "       [71.46332846],\n",
       "       [54.45573267],\n",
       "       [ 7.43473254],\n",
       "       [55.45617948],\n",
       "       [71.46332846],\n",
       "       [57.45707311],\n",
       "       [ 5.43383892],\n",
       "       [95.47405193],\n",
       "       [22.44143471],\n",
       "       [57.45707311],\n",
       "       [22.44143471],\n",
       "       [18.43964747],\n",
       "       [24.44232833],\n",
       "       [63.45975397],\n",
       "       [20.44054109],\n",
       "       [58.45751992],\n",
       "       [18.43964747],\n",
       "       [15.43830703],\n",
       "       [41.44992412],\n",
       "       [42.45037094],\n",
       "       [60.45841354],\n",
       "       [91.47226469],\n",
       "       [10.43607298],\n",
       "       [40.44947731],\n",
       "       [ 0.43160486],\n",
       "       [ 7.43473254],\n",
       "       [70.46288165],\n",
       "       [45.45171137],\n",
       "       [54.45573267],\n",
       "       [61.45886035],\n",
       "       [46.45215818]])"
      ]
     },
     "execution_count": 19,
     "metadata": {},
     "output_type": "execute_result"
    }
   ],
   "source": [
    "regressor.predict(X_test)"
   ]
  },
  {
   "cell_type": "code",
   "execution_count": 20,
   "metadata": {},
   "outputs": [
    {
     "data": {
      "text/plain": [
       "<matplotlib.legend.Legend at 0x7f828045e6d8>"
      ]
     },
     "execution_count": 20,
     "metadata": {},
     "output_type": "execute_result"
    },
    {
     "data": {
      "image/png": "[encoded data removed]",
      "text/plain": [
       "<Figure size 720x720 with 1 Axes>"
      ]
     },
     "metadata": {
      "needs_background": "light"
     },
     "output_type": "display_data"
    }
   ],
   "source": [
    "fig, ax = plt.subplots(figsize=(10,10))\n",
    "ax.scatter(X_test, Y_test, color='orange', linewidth=0.05, label='x_observed')\n",
    "ax.plot(X_test, regressor.predict(X_test), color='tab:red', linewidth=1, label='x_prediction')\n",
    "ax.set_xlabel('x_test')\n",
    "ax.set_ylabel('y')\n",
    "ax.legend()"
   ]
  },
  {
   "cell_type": "markdown",
   "metadata": {},
   "source": [
    "### Using statsmodel"
   ]
  },
  {
   "cell_type": "code",
   "execution_count": 21,
   "metadata": {},
   "outputs": [],
   "source": [
    "import statsmodels.api as sm"
   ]
  },
  {
   "cell_type": "code",
   "execution_count": 42,
   "metadata": {},
   "outputs": [],
   "source": [
    "X_train_ = sm.add_constant(X_train)\n",
    "\n",
    "# An intercept is not included by default and should be \n",
    "# added by the user. See statsmodels.tools.add_constant.\n",
    "X_test_ = sm.add_constant(X_test) \n",
    "model = sm.OLS(Y_train, X_train_).fit()\n",
    "prediction = model.predict(X_test_)"
   ]
  },
  {
   "cell_type": "code",
   "execution_count": 43,
   "metadata": {},
   "outputs": [
    {
     "data": {
      "text/html": [
       "<table class=\"simpletable\">\n",
       "<caption>OLS Regression Results</caption>\n",
       "<tr>\n",
       "  <th>Dep. Variable:</th>            <td>y</td>        <th>  R-squared:         </th> <td>   0.991</td> \n",
       "</tr>\n",
       "<tr>\n",
       "  <th>Model:</th>                   <td>OLS</td>       <th>  Adj. R-squared:    </th> <td>   0.991</td> \n",
       "</tr>\n",
       "<tr>\n",
       "  <th>Method:</th>             <td>Least Squares</td>  <th>  F-statistic:       </th> <td>7.486e+04</td>\n",
       "</tr>\n",
       "<tr>\n",
       "  <th>Date:</th>             <td>Thu, 06 Aug 2020</td> <th>  Prob (F-statistic):</th>  <td>  0.00</td>  \n",
       "</tr>\n",
       "<tr>\n",
       "  <th>Time:</th>                 <td>06:12:46</td>     <th>  Log-Likelihood:    </th> <td> -1709.8</td> \n",
       "</tr>\n",
       "<tr>\n",
       "  <th>No. Observations:</th>      <td>   699</td>      <th>  AIC:               </th> <td>   3424.</td> \n",
       "</tr>\n",
       "<tr>\n",
       "  <th>Df Residuals:</th>          <td>   697</td>      <th>  BIC:               </th> <td>   3433.</td> \n",
       "</tr>\n",
       "<tr>\n",
       "  <th>Df Model:</th>              <td>     1</td>      <th>                     </th>     <td> </td>    \n",
       "</tr>\n",
       "<tr>\n",
       "  <th>Covariance Type:</th>      <td>nonrobust</td>    <th>                     </th>     <td> </td>    \n",
       "</tr>\n",
       "</table>\n",
       "<table class=\"simpletable\">\n",
       "<tr>\n",
       "    <td></td>       <th>coef</th>     <th>std err</th>      <th>t</th>      <th>P>|t|</th>  <th>[0.025</th>    <th>0.975]</th>  \n",
       "</tr>\n",
       "<tr>\n",
       "  <th>const</th> <td>   -0.5688</td> <td>    0.211</td> <td>   -2.692</td> <td> 0.007</td> <td>   -0.984</td> <td>   -0.154</td>\n",
       "</tr>\n",
       "<tr>\n",
       "  <th>x1</th>    <td>    1.0004</td> <td>    0.004</td> <td>  273.610</td> <td> 0.000</td> <td>    0.993</td> <td>    1.008</td>\n",
       "</tr>\n",
       "</table>\n",
       "<table class=\"simpletable\">\n",
       "<tr>\n",
       "  <th>Omnibus:</th>       <td> 0.158</td> <th>  Durbin-Watson:     </th> <td>   1.966</td>\n",
       "</tr>\n",
       "<tr>\n",
       "  <th>Prob(Omnibus):</th> <td> 0.924</td> <th>  Jarque-Bera (JB):  </th> <td>   0.222</td>\n",
       "</tr>\n",
       "<tr>\n",
       "  <th>Skew:</th>          <td> 0.030</td> <th>  Prob(JB):          </th> <td>   0.895</td>\n",
       "</tr>\n",
       "<tr>\n",
       "  <th>Kurtosis:</th>      <td> 2.937</td> <th>  Cond. No.          </th> <td>    115.</td>\n",
       "</tr>\n",
       "</table><br/><br/>Warnings:<br/>[1] Standard Errors assume that the covariance matrix of the errors is correctly specified."
      ],
      "text/plain": [
       "<class 'statsmodels.iolib.summary.Summary'>\n",
       "\"\"\"\n",
       "                            OLS Regression Results                            \n",
       "==============================================================================\n",
       "Dep. Variable:                      y   R-squared:                       0.991\n",
       "Model:                            OLS   Adj. R-squared:                  0.991\n",
       "Method:                 Least Squares   F-statistic:                 7.486e+04\n",
       "Date:                Thu, 06 Aug 2020   Prob (F-statistic):               0.00\n",
       "Time:                        06:12:46   Log-Likelihood:                -1709.8\n",
       "No. Observations:                 699   AIC:                             3424.\n",
       "Df Residuals:                     697   BIC:                             3433.\n",
       "Df Model:                           1                                         \n",
       "Covariance Type:            nonrobust                                         \n",
       "==============================================================================\n",
       "                 coef    std err          t      P>|t|      [0.025      0.975]\n",
       "------------------------------------------------------------------------------\n",
       "const         -0.5688      0.211     -2.692      0.007      -0.984      -0.154\n",
       "x1             1.0004      0.004    273.610      0.000       0.993       1.008\n",
       "==============================================================================\n",
       "Omnibus:                        0.158   Durbin-Watson:                   1.966\n",
       "Prob(Omnibus):                  0.924   Jarque-Bera (JB):                0.222\n",
       "Skew:                           0.030   Prob(JB):                        0.895\n",
       "Kurtosis:                       2.937   Cond. No.                         115.\n",
       "==============================================================================\n",
       "\n",
       "Warnings:\n",
       "[1] Standard Errors assume that the covariance matrix of the errors is correctly specified.\n",
       "\"\"\""
      ]
     },
     "execution_count": 43,
     "metadata": {},
     "output_type": "execute_result"
    }
   ],
   "source": [
    "model.summary()"
   ]
  },
  {
   "cell_type": "code",
   "execution_count": 52,
   "metadata": {},
   "outputs": [
    {
     "data": {
      "text/plain": [
       "<matplotlib.legend.Legend at 0x7f8283259f28>"
      ]
     },
     "execution_count": 52,
     "metadata": {},
     "output_type": "execute_result"
    },
    {
     "data": {
      "image/png": "[encoded data removed]",
      "text/plain": [
       "<Figure size 720x720 with 1 Axes>"
      ]
     },
     "metadata": {
      "needs_background": "light"
     },
     "output_type": "display_data"
    }
   ],
   "source": [
    "fig,ax = plt.subplots(figsize=(10,10))\n",
    "ax.scatter(X_test, Y_test, label='test_observed', color='green')\n",
    "ax.plot(X_test, model.predict(X_test_), label='test_predicted', color='black')\n",
    "ax.set_title('observed vs predictions')\n",
    "ax.set_xlabel('x')\n",
    "ax.set_ylabel('y')\n",
    "ax.legend()"
   ]
  },
  {
   "cell_type": "markdown",
   "metadata": {},
   "source": [
    "### My own implementation of linear model "
   ]
  },
  {
   "cell_type": "code",
   "execution_count": 186,
   "metadata": {},
   "outputs": [],
   "source": [
    "class linear_model():\n",
    "    \n",
    "    def __init__(self):\n",
    "        \n",
    "        pass\n",
    "    \n",
    "    def initialise_params(self, num_dim):\n",
    "        \n",
    "        w = np.zeros((num_dim, 1))\n",
    "        b = 0\n",
    "        \n",
    "        return w, b \n",
    "        \n",
    "    def loss(self, X, y, w, b):\n",
    "        \n",
    "        num_train = X.shape[0]\n",
    "#         num_features = X.shape[1]\n",
    "        \n",
    "        y_hat = np.dot(X, w) + b\n",
    "        \n",
    "        loss = np.sum((y_hat - y) ** 2) / num_train\n",
    "        dw = np.dot(X.T, (y_hat - y)) / num_train\n",
    "        db = np.sum((y_hat - y)) / num_train\n",
    "        \n",
    "        return y_hat, loss, dw, db\n",
    "    \n",
    "    def train(self, X, y, learning_rate, num_epoch):\n",
    "        \n",
    "        w, b = self.initialise_params(X.shape[1])\n",
    "        loss_list = []\n",
    "        \n",
    "        for i in range(1, num_epoch):\n",
    "            y_hat, loss, dw, db = self.loss(X, y, w, b)\n",
    "            \n",
    "            loss_list.append(loss)\n",
    "            \n",
    "            w += -learning_rate * dw\n",
    "            b += -learning_rate * db\n",
    "            \n",
    "            if i % 1000 == 0:\n",
    "                print('epoch {} loss {}'.format(i, loss))\n",
    "                \n",
    "            params = {\n",
    "                'w': w,\n",
    "                'b': b\n",
    "            }\n",
    "            \n",
    "            gradients = {\n",
    "                'dw': dw,\n",
    "                'db': db\n",
    "            }\n",
    "            \n",
    "        return loss_list, loss, params, gradients\n",
    "    \n",
    "    def predict(self, X, params):\n",
    "        \n",
    "        w = params['w']\n",
    "        b = params['b']\n",
    "        \n",
    "        return np.dot(X, w) + b       "
   ]
  },
  {
   "cell_type": "markdown",
   "metadata": {},
   "source": [
    "#### using dummy dataset"
   ]
  },
  {
   "cell_type": "code",
   "execution_count": 189,
   "metadata": {
    "scrolled": true
   },
   "outputs": [
    {
     "name": "stdout",
     "output_type": "stream",
     "text": [
      "epoch 1000 loss 7.886325465926176\n",
      "epoch 2000 loss 7.885900314133191\n",
      "epoch 3000 loss 7.885477288700458\n",
      "epoch 4000 loss 7.885056378993171\n",
      "epoch 5000 loss 7.884637574429703\n",
      "epoch 6000 loss 7.884220864481366\n",
      "epoch 7000 loss 7.883806238672114\n",
      "epoch 8000 loss 7.883393686578313\n",
      "epoch 9000 loss 7.882983197828446\n",
      "epoch 10000 loss 7.882574762102877\n",
      "epoch 11000 loss 7.882168369133581\n",
      "epoch 12000 loss 7.881764008703889\n",
      "epoch 13000 loss 7.881361670648226\n",
      "epoch 14000 loss 7.880961344851865\n",
      "epoch 15000 loss 7.880563021250659\n",
      "epoch 16000 loss 7.880166689830806\n",
      "epoch 17000 loss 7.879772340628577\n",
      "epoch 18000 loss 7.879379963730083\n",
      "epoch 19000 loss 7.878989549271013\n",
      "epoch 20000 loss 7.878601087436401\n",
      "epoch 21000 loss 7.878214568460353\n",
      "epoch 22000 loss 7.8778299826258396\n",
      "epoch 23000 loss 7.877447320264411\n",
      "epoch 24000 loss 7.877066571755985\n",
      "epoch 25000 loss 7.876687727528588\n",
      "epoch 26000 loss 7.876310778058122\n",
      "epoch 27000 loss 7.875935713868125\n",
      "epoch 28000 loss 7.875562525529526\n",
      "epoch 29000 loss 7.875191203660417\n",
      "epoch 30000 loss 7.874821738925805\n",
      "epoch 31000 loss 7.8744541220374\n",
      "epoch 32000 loss 7.874088343753351\n",
      "epoch 33000 loss 7.873724394878037\n",
      "epoch 34000 loss 7.873362266261829\n",
      "epoch 35000 loss 7.873001948800855\n",
      "epoch 36000 loss 7.872643433436779\n",
      "epoch 37000 loss 7.872286711156566\n",
      "epoch 38000 loss 7.871931772992264\n",
      "epoch 39000 loss 7.871578610020768\n",
      "epoch 40000 loss 7.8712272133636025\n",
      "epoch 41000 loss 7.870877574186698\n",
      "epoch 42000 loss 7.870529683700168\n",
      "epoch 43000 loss 7.870183533158088\n",
      "epoch 44000 loss 7.869839113858277\n",
      "epoch 45000 loss 7.869496417142072\n",
      "epoch 46000 loss 7.869155434394118\n",
      "epoch 47000 loss 7.8688161570421515\n",
      "epoch 48000 loss 7.868478576556783\n",
      "epoch 49000 loss 7.868142684451274\n",
      "epoch 50000 loss 7.867808472281345\n",
      "epoch 51000 loss 7.8674759316449325\n",
      "epoch 52000 loss 7.867145054182013\n",
      "epoch 53000 loss 7.866815831574363\n",
      "epoch 54000 loss 7.8664882555453675\n",
      "epoch 55000 loss 7.866162317859803\n",
      "epoch 56000 loss 7.865838010323635\n",
      "epoch 57000 loss 7.8655153247838125\n",
      "epoch 58000 loss 7.8651942531280605\n",
      "epoch 59000 loss 7.864874787284674\n",
      "epoch 60000 loss 7.864556919222322\n",
      "epoch 61000 loss 7.864240640949837\n",
      "epoch 62000 loss 7.863925944516022\n",
      "epoch 63000 loss 7.863612822009449\n",
      "epoch 64000 loss 7.8633012655582535\n",
      "epoch 65000 loss 7.862991267329945\n",
      "epoch 66000 loss 7.862682819531202\n",
      "epoch 67000 loss 7.862375914407689\n",
      "epoch 68000 loss 7.862070544243847\n",
      "epoch 69000 loss 7.861766701362704\n",
      "epoch 70000 loss 7.861464378125686\n",
      "epoch 71000 loss 7.861163566932427\n",
      "epoch 72000 loss 7.860864260220567\n",
      "epoch 73000 loss 7.860566450465572\n",
      "epoch 74000 loss 7.86027013018054\n",
      "epoch 75000 loss 7.859975291916016\n",
      "epoch 76000 loss 7.859681928259801\n",
      "epoch 77000 loss 7.859390031836768\n",
      "epoch 78000 loss 7.859099595308675\n",
      "epoch 79000 loss 7.858810611373982\n",
      "epoch 80000 loss 7.85852307276767\n",
      "epoch 81000 loss 7.858236972261052\n",
      "epoch 82000 loss 7.857952302661594\n",
      "epoch 83000 loss 7.85766905681274\n",
      "epoch 84000 loss 7.85738722759372\n",
      "epoch 85000 loss 7.857106807919381\n",
      "epoch 86000 loss 7.8568277907400095\n",
      "epoch 87000 loss 7.856550169041147\n",
      "epoch 88000 loss 7.856273935843414\n",
      "epoch 89000 loss 7.855999084202342\n",
      "epoch 90000 loss 7.855725607208196\n",
      "epoch 91000 loss 7.855453497985794\n",
      "epoch 92000 loss 7.855182749694347\n",
      "epoch 93000 loss 7.8549133555272705\n",
      "epoch 94000 loss 7.854645308712033\n",
      "epoch 95000 loss 7.854378602509963\n",
      "epoch 96000 loss 7.854113230216109\n",
      "epoch 97000 loss 7.8538491851590315\n",
      "epoch 98000 loss 7.853586460700676\n",
      "epoch 99000 loss 7.8533250502361795\n"
     ]
    }
   ],
   "source": [
    "lm = linear_model()\n",
    "loss_list, loss, params, gradients = lm.train(X_train, Y_train, 0.00001, 100000)"
   ]
  },
  {
   "cell_type": "code",
   "execution_count": 190,
   "metadata": {},
   "outputs": [
    {
     "data": {
      "text/plain": [
       "array([[76.3957889 ],\n",
       "       [20.75188967],\n",
       "       [21.74553073],\n",
       "       [19.75824862],\n",
       "       [35.65650554],\n",
       "       [14.79004333],\n",
       "       [61.49117303],\n",
       "       [94.28132793],\n",
       "       [19.75824862],\n",
       "       [ 4.85363275],\n",
       "       [ 3.8599917 ],\n",
       "       [18.76460756],\n",
       "       [95.27496899],\n",
       "       [61.49117303],\n",
       "       [35.65650554],\n",
       "       [14.79004333],\n",
       "       [64.47209621],\n",
       "       [13.79640227],\n",
       "       [86.33219947],\n",
       "       [68.44666044],\n",
       "       [88.31948159],\n",
       "       [50.5611214 ],\n",
       "       [88.31948159],\n",
       "       [26.71373602],\n",
       "       [96.26861005],\n",
       "       [57.5166088 ],\n",
       "       [78.38307101],\n",
       "       [20.75188967],\n",
       "       [92.29404582],\n",
       "       [26.71373602],\n",
       "       [98.25589216],\n",
       "       [30.68830025],\n",
       "       [32.67558236],\n",
       "       [79.37671207],\n",
       "       [27.70737708],\n",
       "       [46.58655717],\n",
       "       [52.54840352],\n",
       "       [68.44666044],\n",
       "       [27.70737708],\n",
       "       [32.67558236],\n",
       "       [90.3067637 ],\n",
       "       [70.43394255],\n",
       "       [49.56748034],\n",
       "       [75.40214784],\n",
       "       [ 3.8599917 ],\n",
       "       [36.6501466 ],\n",
       "       [69.44030149],\n",
       "       [67.45301938],\n",
       "       [39.63106977],\n",
       "       [34.66286448],\n",
       "       [93.28768687],\n",
       "       [87.32584053],\n",
       "       [51.55476246],\n",
       "       [30.68830025],\n",
       "       [58.51024986],\n",
       "       [-0.11457253],\n",
       "       [38.63742871],\n",
       "       [63.47845515],\n",
       "       [68.44666044],\n",
       "       [56.52296775],\n",
       "       [12.80276121],\n",
       "       [71.42758361],\n",
       "       [75.40214784],\n",
       "       [60.49753198],\n",
       "       [81.36399418],\n",
       "       [17.7709665 ],\n",
       "       [40.62471083],\n",
       "       [49.56748034],\n",
       "       [54.53568563],\n",
       "       [12.80276121],\n",
       "       [45.59291611],\n",
       "       [12.80276121],\n",
       "       [78.38307101],\n",
       "       [52.54840352],\n",
       "       [14.79004333],\n",
       "       [27.70737708],\n",
       "       [80.37035313],\n",
       "       [68.44666044],\n",
       "       [51.55476246],\n",
       "       [83.3512763 ],\n",
       "       [67.45301938],\n",
       "       [26.71373602],\n",
       "       [55.52932669],\n",
       "       [47.58019823],\n",
       "       [39.63106977],\n",
       "       [38.63742871],\n",
       "       [81.36399418],\n",
       "       [99.24953322],\n",
       "       [58.51024986],\n",
       "       [42.61199294],\n",
       "       [66.45937832],\n",
       "       [37.64378765],\n",
       "       [62.48481409],\n",
       "       [90.3067637 ],\n",
       "       [59.50389092],\n",
       "       [13.79640227],\n",
       "       [20.75188967],\n",
       "       [86.33219947],\n",
       "       [72.42122467],\n",
       "       [31.68194131],\n",
       "       [ 1.87270958],\n",
       "       [81.36399418],\n",
       "       [18.76460756],\n",
       "       [73.41486572],\n",
       "       [41.61835188],\n",
       "       [11.80912016],\n",
       "       [ 0.87906852],\n",
       "       [89.31312264],\n",
       "       [88.31948159],\n",
       "       [-0.11457253],\n",
       "       [40.62471083],\n",
       "       [15.78368439],\n",
       "       [93.28768687],\n",
       "       [96.26861005],\n",
       "       [65.46573726],\n",
       "       [23.73281285],\n",
       "       [16.77732544],\n",
       "       [89.31312264],\n",
       "       [12.80276121],\n",
       "       [-0.11457253],\n",
       "       [63.47845515],\n",
       "       [95.27496899],\n",
       "       [97.26225111],\n",
       "       [11.80912016],\n",
       "       [40.62471083],\n",
       "       [46.58655717],\n",
       "       [77.38942995],\n",
       "       [19.75824862],\n",
       "       [88.31948159],\n",
       "       [28.70101813],\n",
       "       [63.47845515],\n",
       "       [74.40850678],\n",
       "       [11.80912016],\n",
       "       [24.7264539 ],\n",
       "       [27.70737708],\n",
       "       [29.69465919],\n",
       "       [64.47209621],\n",
       "       [58.51024986],\n",
       "       [63.47845515],\n",
       "       [52.54840352],\n",
       "       [70.43394255],\n",
       "       [96.26861005],\n",
       "       [72.42122467],\n",
       "       [ 8.82819698],\n",
       "       [11.80912016],\n",
       "       [62.48481409],\n",
       "       [98.25589216],\n",
       "       [59.50389092],\n",
       "       [34.66286448],\n",
       "       [ 1.87270958],\n",
       "       [59.50389092],\n",
       "       [31.68194131],\n",
       "       [93.28768687],\n",
       "       [83.3512763 ],\n",
       "       [62.48481409],\n",
       "       [21.74553073],\n",
       "       [80.37035313],\n",
       "       [92.29404582],\n",
       "       [32.67558236],\n",
       "       [ 6.84091487],\n",
       "       [41.61835188],\n",
       "       [45.59291611],\n",
       "       [53.54204457],\n",
       "       [15.78368439],\n",
       "       [48.57383929],\n",
       "       [42.61199294],\n",
       "       [94.28132793],\n",
       "       [65.46573726],\n",
       "       [20.75188967],\n",
       "       [34.66286448],\n",
       "       [79.37671207],\n",
       "       [36.6501466 ],\n",
       "       [53.54204457],\n",
       "       [55.52932669],\n",
       "       [ 0.87906852],\n",
       "       [31.68194131],\n",
       "       [57.5166088 ],\n",
       "       [31.68194131],\n",
       "       [45.59291611],\n",
       "       [71.42758361],\n",
       "       [16.77732544],\n",
       "       [96.26861005],\n",
       "       [92.29404582],\n",
       "       [90.3067637 ],\n",
       "       [36.6501466 ],\n",
       "       [ 3.8599917 ],\n",
       "       [53.54204457],\n",
       "       [50.5611214 ],\n",
       "       [26.71373602],\n",
       "       [45.59291611],\n",
       "       [91.30040476],\n",
       "       [72.42122467],\n",
       "       [76.3957889 ],\n",
       "       [90.3067637 ],\n",
       "       [60.49753198],\n",
       "       [98.25589216],\n",
       "       [ 3.8599917 ],\n",
       "       [71.42758361],\n",
       "       [18.76460756],\n",
       "       [56.52296775],\n",
       "       [77.38942995],\n",
       "       [25.72009496],\n",
       "       [73.41486572],\n",
       "       [89.31312264],\n",
       "       [65.46573726],\n",
       "       [12.80276121],\n",
       "       [39.63106977],\n",
       "       [76.3957889 ],\n",
       "       [66.45937832],\n",
       "       [74.40850678],\n",
       "       [22.73917179],\n",
       "       [44.59927506],\n",
       "       [58.51024986],\n",
       "       [43.605634  ],\n",
       "       [22.73917179],\n",
       "       [54.53568563],\n",
       "       [54.53568563],\n",
       "       [94.28132793],\n",
       "       [11.80912016],\n",
       "       [ 3.8599917 ],\n",
       "       [ 6.84091487],\n",
       "       [99.24953322],\n",
       "       [47.58019823],\n",
       "       [41.61835188],\n",
       "       [95.27496899],\n",
       "       [38.63742871],\n",
       "       [99.24953322],\n",
       "       [86.33219947],\n",
       "       [13.79640227],\n",
       "       [13.79640227],\n",
       "       [36.6501466 ],\n",
       "       [ 4.85363275],\n",
       "       [87.32584053],\n",
       "       [90.3067637 ],\n",
       "       [64.47209621],\n",
       "       [73.41486572],\n",
       "       [55.52932669],\n",
       "       [15.78368439],\n",
       "       [ 4.85363275],\n",
       "       [27.70737708],\n",
       "       [91.30040476],\n",
       "       [45.59291611],\n",
       "       [53.54204457],\n",
       "       [38.63742871],\n",
       "       [43.605634  ],\n",
       "       [30.68830025],\n",
       "       [67.45301938],\n",
       "       [85.33855841],\n",
       "       [89.31312264],\n",
       "       [37.64378765],\n",
       "       [20.75188967],\n",
       "       [94.28132793],\n",
       "       [55.52932669],\n",
       "       [59.50389092],\n",
       "       [64.47209621],\n",
       "       [77.38942995],\n",
       "       [88.31948159],\n",
       "       [ 5.84727381],\n",
       "       [66.45937832],\n",
       "       [35.65650554],\n",
       "       [15.78368439],\n",
       "       [99.24953322],\n",
       "       [44.59927506],\n",
       "       [72.42122467],\n",
       "       [56.52296775],\n",
       "       [19.75824862],\n",
       "       [75.40214784],\n",
       "       [33.66922342],\n",
       "       [54.53568563],\n",
       "       [71.42758361],\n",
       "       [54.53568563],\n",
       "       [ 7.83455593],\n",
       "       [55.52932669],\n",
       "       [71.42758361],\n",
       "       [57.5166088 ],\n",
       "       [ 5.84727381],\n",
       "       [95.27496899],\n",
       "       [22.73917179],\n",
       "       [57.5166088 ],\n",
       "       [22.73917179],\n",
       "       [18.76460756],\n",
       "       [24.7264539 ],\n",
       "       [63.47845515],\n",
       "       [20.75188967],\n",
       "       [58.51024986],\n",
       "       [18.76460756],\n",
       "       [15.78368439],\n",
       "       [41.61835188],\n",
       "       [42.61199294],\n",
       "       [60.49753198],\n",
       "       [91.30040476],\n",
       "       [10.8154791 ],\n",
       "       [40.62471083],\n",
       "       [ 0.87906852],\n",
       "       [ 7.83455593],\n",
       "       [70.43394255],\n",
       "       [45.59291611],\n",
       "       [54.53568563],\n",
       "       [61.49117303],\n",
       "       [46.58655717]])"
      ]
     },
     "execution_count": 190,
     "metadata": {},
     "output_type": "execute_result"
    }
   ],
   "source": [
    "prediction = lm.predict(X_test, params)\n",
    "prediction"
   ]
  },
  {
   "cell_type": "code",
   "execution_count": 191,
   "metadata": {},
   "outputs": [
    {
     "data": {
      "text/plain": [
       "(300, 1)"
      ]
     },
     "execution_count": 191,
     "metadata": {},
     "output_type": "execute_result"
    }
   ],
   "source": [
    "X_test.shape"
   ]
  },
  {
   "cell_type": "code",
   "execution_count": 192,
   "metadata": {},
   "outputs": [
    {
     "data": {
      "text/plain": [
       "(300, 1)"
      ]
     },
     "execution_count": 192,
     "metadata": {},
     "output_type": "execute_result"
    }
   ],
   "source": [
    "Y_test.shape"
   ]
  },
  {
   "cell_type": "code",
   "execution_count": 197,
   "metadata": {},
   "outputs": [
    {
     "data": {
      "text/plain": [
       "[<matplotlib.lines.Line2D at 0x7f828464d550>]"
      ]
     },
     "execution_count": 197,
     "metadata": {},
     "output_type": "execute_result"
    },
    {
     "data": {
      "image/png": "[encoded data removed]",
      "text/plain": [
       "<Figure size 720x720 with 1 Axes>"
      ]
     },
     "metadata": {
      "needs_background": "light"
     },
     "output_type": "display_data"
    }
   ],
   "source": [
    "fig, ax = plt.subplots(figsize=(10,10))\n",
    "ax.scatter(X_test[:,0], Y_test[:,0], label='observed', color='red')\n",
    "ax.plot(X_test[:,0], prediction[:,0], label='predicted', color='green')"
   ]
  },
  {
   "cell_type": "code",
   "execution_count": 198,
   "metadata": {},
   "outputs": [
    {
     "data": {
      "text/plain": [
       "{'w': array([[0.99364106]]), 'b': -0.11457253387501799}"
      ]
     },
     "execution_count": 198,
     "metadata": {},
     "output_type": "execute_result"
    }
   ],
   "source": [
    "params"
   ]
  },
  {
   "cell_type": "code",
   "execution_count": null,
   "metadata": {},
   "outputs": [],
   "source": []
  },
  {
   "cell_type": "code",
   "execution_count": null,
   "metadata": {},
   "outputs": [],
   "source": []
  },
  {
   "cell_type": "markdown",
   "metadata": {},
   "source": [
    "##### using sklearn diabetes dataset"
   ]
  },
  {
   "cell_type": "code",
   "execution_count": 171,
   "metadata": {},
   "outputs": [
    {
     "data": {
      "text/plain": [
       "array([[ 0.03807591,  0.05068012,  0.06169621, ..., -0.00259226,\n",
       "         0.01990842, -0.01764613],\n",
       "       [-0.00188202, -0.04464164, -0.05147406, ..., -0.03949338,\n",
       "        -0.06832974, -0.09220405],\n",
       "       [ 0.08529891,  0.05068012,  0.04445121, ..., -0.00259226,\n",
       "         0.00286377, -0.02593034],\n",
       "       ...,\n",
       "       [ 0.04170844,  0.05068012, -0.01590626, ..., -0.01107952,\n",
       "        -0.04687948,  0.01549073],\n",
       "       [-0.04547248, -0.04464164,  0.03906215, ...,  0.02655962,\n",
       "         0.04452837, -0.02593034],\n",
       "       [-0.04547248, -0.04464164, -0.0730303 , ..., -0.03949338,\n",
       "        -0.00421986,  0.00306441]])"
      ]
     },
     "execution_count": 171,
     "metadata": {},
     "output_type": "execute_result"
    }
   ],
   "source": [
    "from sklearn.datasets import load_diabetes\n",
    "from sklearn.utils import shuffle\n",
    "\n",
    "diabetes = load_diabetes()\n",
    "data = diabetes.data\n",
    "target = diabetes.target\n",
    "\n",
    "data"
   ]
  },
  {
   "cell_type": "code",
   "execution_count": 172,
   "metadata": {
    "scrolled": true
   },
   "outputs": [
    {
     "data": {
      "text/plain": [
       "array([[ 0.01628068, -0.04464164, -0.04716281, ..., -0.03949338,\n",
       "         0.02736771,  0.02791705],\n",
       "       [ 0.0090156 , -0.04464164,  0.04552903, ..., -0.03949338,\n",
       "         0.04613233,  0.03620126],\n",
       "       [ 0.02717829, -0.04464164,  0.00672779, ...,  0.03430886,\n",
       "         0.04067226,  0.01134862],\n",
       "       ...,\n",
       "       [-0.05273756,  0.05068012, -0.01806189, ...,  0.1081111 ,\n",
       "         0.03605579, -0.04249877],\n",
       "       [-0.00551456,  0.05068012, -0.00836158, ..., -0.00259226,\n",
       "         0.08058546,  0.00720652],\n",
       "       [-0.03457486,  0.05068012, -0.02560657, ..., -0.01550765,\n",
       "         0.01482271,  0.04034337]], dtype=float32)"
      ]
     },
     "execution_count": 172,
     "metadata": {},
     "output_type": "execute_result"
    }
   ],
   "source": [
    "X, y = shuffle(data, target, random_state=10)\n",
    "X = X.astype(np.float32)\n",
    "X"
   ]
  },
  {
   "cell_type": "code",
   "execution_count": 173,
   "metadata": {},
   "outputs": [
    {
     "data": {
      "text/plain": [
       "array([[0.01628068]], dtype=float32)"
      ]
     },
     "execution_count": 173,
     "metadata": {},
     "output_type": "execute_result"
    }
   ],
   "source": [
    "X[:1,:1]"
   ]
  },
  {
   "cell_type": "code",
   "execution_count": 174,
   "metadata": {},
   "outputs": [
    {
     "data": {
      "text/plain": [
       "-0.044641636"
      ]
     },
     "execution_count": 174,
     "metadata": {},
     "output_type": "execute_result"
    }
   ],
   "source": [
    "X[0][1]"
   ]
  },
  {
   "cell_type": "code",
   "execution_count": 175,
   "metadata": {},
   "outputs": [
    {
     "name": "stdout",
     "output_type": "stream",
     "text": [
      "X_train shape is (397, 10)\n",
      "X_test shape is (45, 10)\n",
      "y_train shape is (397, 1)\n",
      "y_test shape is (45, 1)\n"
     ]
    }
   ],
   "source": [
    "# split train/test \n",
    "offset = int(X.shape[0] * 0.9)\n",
    "X_train, y_train = X[:offset], y[:offset]\n",
    "X_test, y_test = X[offset:], y[offset:]\n",
    "\n",
    "y_train = y_train.reshape((-1, 1))\n",
    "y_test = y_test.reshape((-1, 1))\n",
    "\n",
    "print('X_train shape is {}'.format(X_train.shape))\n",
    "print('X_test shape is {}'.format(X_test.shape))\n",
    "print('y_train shape is {}'.format(y_train.shape))\n",
    "print('y_test shape is {}'.format(y_test.shape))"
   ]
  },
  {
   "cell_type": "code",
   "execution_count": 176,
   "metadata": {
    "scrolled": true
   },
   "outputs": [
    {
     "name": "stdout",
     "output_type": "stream",
     "text": [
      "epoch 1000 loss 9161.941293194375\n",
      "epoch 2000 loss 6387.416293244849\n",
      "epoch 3000 loss 5977.488129624352\n",
      "epoch 4000 loss 5887.81002040042\n",
      "epoch 5000 loss 5841.981130495543\n",
      "epoch 6000 loss 5802.6230941817175\n",
      "epoch 7000 loss 5764.673013949662\n",
      "epoch 8000 loss 5727.437138162279\n",
      "epoch 9000 loss 5690.812578445103\n",
      "epoch 10000 loss 5654.776491471078\n",
      "epoch 11000 loss 5619.317014598182\n",
      "epoch 12000 loss 5584.423925681326\n",
      "epoch 13000 loss 5550.0873775085865\n",
      "epoch 14000 loss 5516.297723958501\n",
      "epoch 15000 loss 5483.04549380475\n",
      "epoch 16000 loss 5450.321384530746\n",
      "epoch 17000 loss 5418.116258896952\n",
      "epoch 18000 loss 5386.421141926924\n",
      "epoch 19000 loss 5355.227217995755\n",
      "epoch 20000 loss 5324.525827977236\n",
      "epoch 21000 loss 5294.308466443115\n",
      "epoch 22000 loss 5264.5667789127065\n",
      "epoch 23000 loss 5235.292559151861\n",
      "epoch 24000 loss 5206.477746520391\n",
      "epoch 25000 loss 5178.114423367088\n",
      "epoch 26000 loss 5150.194812471463\n",
      "epoch 27000 loss 5122.711274531392\n",
      "epoch 28000 loss 5095.656305695808\n",
      "epoch 29000 loss 5069.022535141675\n",
      "epoch 30000 loss 5042.802722694411\n",
      "epoch 31000 loss 5016.989756491004\n",
      "epoch 32000 loss 4991.576650685041\n",
      "epoch 33000 loss 4966.556543192894\n",
      "epoch 34000 loss 4941.92269348036\n",
      "epoch 35000 loss 4917.668480388963\n",
      "epoch 36000 loss 4893.787400001275\n",
      "epoch 37000 loss 4870.273063544502\n",
      "epoch 38000 loss 4847.119195331691\n",
      "epoch 39000 loss 4824.319630739841\n",
      "epoch 40000 loss 4801.868314224298\n",
      "epoch 41000 loss 4779.759297368735\n",
      "epoch 42000 loss 4757.986736970132\n",
      "epoch 43000 loss 4736.544893158079\n",
      "epoch 44000 loss 4715.428127547811\n",
      "epoch 45000 loss 4694.630901426378\n",
      "epoch 46000 loss 4674.147773971324\n",
      "epoch 47000 loss 4653.973400501316\n",
      "epoch 48000 loss 4634.102530758151\n",
      "epoch 49000 loss 4614.530007219558\n",
      "epoch 50000 loss 4595.250763442261\n",
      "epoch 51000 loss 4576.2598224347485\n",
      "epoch 52000 loss 4557.552295059222\n",
      "epoch 53000 loss 4539.123378462204\n",
      "epoch 54000 loss 4520.968354533269\n",
      "epoch 55000 loss 4503.0825883914285\n",
      "epoch 56000 loss 4485.461526898638\n",
      "epoch 57000 loss 4468.100697199963\n",
      "epoch 58000 loss 4450.995705289917\n",
      "epoch 59000 loss 4434.142234604495\n",
      "epoch 60000 loss 4417.536044638459\n",
      "epoch 61000 loss 4401.1729695874055\n",
      "epoch 62000 loss 4385.048917014169\n",
      "epoch 63000 loss 4369.1598665391575\n",
      "epoch 64000 loss 4353.501868554126\n",
      "epoch 65000 loss 4338.071042959036\n",
      "epoch 66000 loss 4322.863577921554\n",
      "epoch 67000 loss 4307.875728658765\n",
      "epoch 68000 loss 4293.103816240748\n",
      "epoch 69000 loss 4278.544226415576\n",
      "epoch 70000 loss 4264.193408455391\n",
      "epoch 71000 loss 4250.047874023143\n",
      "epoch 72000 loss 4236.104196059657\n",
      "epoch 73000 loss 4222.359007690638\n",
      "epoch 74000 loss 4208.809001153256\n",
      "epoch 75000 loss 4195.450926741982\n",
      "epoch 76000 loss 4182.2815917733\n",
      "epoch 77000 loss 4169.297859568988\n",
      "epoch 78000 loss 4156.496648457605\n",
      "epoch 79000 loss 4143.874930793862\n",
      "epoch 80000 loss 4131.42973199559\n",
      "epoch 81000 loss 4119.158129597941\n",
      "epoch 82000 loss 4107.057252324544\n",
      "epoch 83000 loss 4095.1242791752916\n",
      "epoch 84000 loss 4083.356438530493\n",
      "epoch 85000 loss 4071.7510072710515\n",
      "epoch 86000 loss 4060.3053099144195\n",
      "epoch 87000 loss 4049.0167177660255\n",
      "epoch 88000 loss 4037.8826480858984\n",
      "epoch 89000 loss 4026.900563270237\n",
      "epoch 90000 loss 4016.067970047611\n",
      "epoch 91000 loss 4005.3824186895895\n",
      "epoch 92000 loss 3994.8415022354925\n",
      "epoch 93000 loss 3984.4428557310257\n",
      "epoch 94000 loss 3974.184155480556\n",
      "epoch 95000 loss 3964.0631183127825\n",
      "epoch 96000 loss 3954.0775008595474\n",
      "epoch 97000 loss 3944.225098847576\n",
      "epoch 98000 loss 3934.5037464028815\n",
      "epoch 99000 loss 3924.9113153676426\n"
     ]
    }
   ],
   "source": [
    "loss_list, loss, params, gradients = linear_model().train(X_train, y_train, 0.001, 100000)"
   ]
  },
  {
   "cell_type": "code",
   "execution_count": 177,
   "metadata": {},
   "outputs": [
    {
     "name": "stdout",
     "output_type": "stream",
     "text": [
      "{'w': array([[  44.54999545],\n",
      "       [   2.94510877],\n",
      "       [ 163.90246099],\n",
      "       [ 127.91052384],\n",
      "       [  38.16723287],\n",
      "       [  25.37372365],\n",
      "       [-104.33147473],\n",
      "       [ 101.07510229],\n",
      "       [ 153.152057  ],\n",
      "       [  94.42043286]]), 'b': 153.25756489550187}\n"
     ]
    }
   ],
   "source": [
    "print(params)"
   ]
  },
  {
   "cell_type": "code",
   "execution_count": 178,
   "metadata": {},
   "outputs": [
    {
     "data": {
      "text/plain": [
       "array([[186.17802311],\n",
       "       [104.43859474],\n",
       "       [222.23449227],\n",
       "       [162.48472825],\n",
       "       [127.3624073 ]])"
      ]
     },
     "execution_count": 178,
     "metadata": {},
     "output_type": "execute_result"
    }
   ],
   "source": [
    "y_predict = linear_model().predict(X_test, params)\n",
    "y_predict[:5]"
   ]
  },
  {
   "cell_type": "code",
   "execution_count": 179,
   "metadata": {},
   "outputs": [
    {
     "data": {
      "text/plain": [
       "array([ 0.05987114, -0.02367725,  0.09619652,  0.04170844, -0.04547248,\n",
       "       -0.01277963, -0.0382074 ,  0.0562386 ,  0.03081083, -0.02730979,\n",
       "        0.04897352,  0.01628068,  0.00538306, -0.09632801,  0.03807591,\n",
       "       -0.02367725,  0.04897352,  0.00175052,  0.0562386 ,  0.03081083,\n",
       "       -0.02730979,  0.04897352, -0.04910501, -0.10722563, -0.04910501,\n",
       "       -0.06000263,  0.02354575, -0.00551456, -0.00551456,  0.05260606,\n",
       "        0.02354575,  0.00538306, -0.04910501,  0.01264814,  0.04170844,\n",
       "        0.04170844, -0.05273756, -0.04547248, -0.01641217,  0.00538306,\n",
       "       -0.00914709, -0.02367725, -0.05273756, -0.00551456, -0.03457486],\n",
       "      dtype=float32)"
      ]
     },
     "execution_count": 179,
     "metadata": {},
     "output_type": "execute_result"
    }
   ],
   "source": [
    "X_test[:,0]"
   ]
  },
  {
   "cell_type": "code",
   "execution_count": 180,
   "metadata": {},
   "outputs": [
    {
     "data": {
      "text/plain": [
       "array([163.,  59., 230., 118., 111.,  96.,  60., 178., 148., 317., 132.,\n",
       "        47., 185., 200., 212., 151., 225., 111., 158.,  87.,  52., 180.,\n",
       "        58., 200., 182., 258., 262.,  54., 166., 197., 146., 100., 346.,\n",
       "       111., 110., 178., 113.,  93.,  25.,  84., 167., 122., 171., 161.,\n",
       "        74.])"
      ]
     },
     "execution_count": 180,
     "metadata": {},
     "output_type": "execute_result"
    }
   ],
   "source": [
    "y_test[:,0]"
   ]
  },
  {
   "cell_type": "code",
   "execution_count": 184,
   "metadata": {
    "scrolled": false
   },
   "outputs": [
    {
     "data": {
      "text/plain": [
       "[<matplotlib.lines.Line2D at 0x7f82846a6588>]"
      ]
     },
     "execution_count": 184,
     "metadata": {},
     "output_type": "execute_result"
    },
    {
     "data": {
      "image/png": "[encoded data removed]",
      "text/plain": [
       "<Figure size 720x720 with 1 Axes>"
      ]
     },
     "metadata": {
      "needs_background": "light"
     },
     "output_type": "display_data"
    }
   ],
   "source": [
    "import matplotlib.pyplot as plt\n",
    "\n",
    "fig, ax = plt.subplots(figsize=(10,10))\n",
    "\n",
    "ax.scatter(X_test[:,0], y_test[:,0], label='observed', color='red')\n",
    "ax.plot(X_test[:,0], y_predict[:,0], label='predicted', color='green')"
   ]
  },
  {
   "cell_type": "code",
   "execution_count": 182,
   "metadata": {},
   "outputs": [
    {
     "data": {
      "image/png": "[encoded data removed]",
      "text/plain": [
       "<Figure size 432x288 with 1 Axes>"
      ]
     },
     "metadata": {
      "needs_background": "light"
     },
     "output_type": "display_data"
    }
   ],
   "source": [
    "plt.plot(loss_list)\n",
    "plt.show()"
   ]
  }
 ],
 "metadata": {
  "kernelspec": {
   "display_name": "Python 3",
   "language": "python",
   "name": "python3"
  },
  "language_info": {
   "codemirror_mode": {
    "name": "ipython",
    "version": 3
   },
   "file_extension": ".py",
   "mimetype": "text/x-python",
   "name": "python",
   "nbconvert_exporter": "python",
   "pygments_lexer": "ipython3",
   "version": "3.7.1"
  }
 },
 "nbformat": 4,
 "nbformat_minor": 2
}
