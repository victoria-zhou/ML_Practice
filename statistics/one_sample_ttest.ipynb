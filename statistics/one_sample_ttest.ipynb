{
 "cells": [
  {
   "cell_type": "code",
   "execution_count": 1,
   "metadata": {},
   "outputs": [],
   "source": [
    "import pandas as pd\n",
    "import numpy as np\n",
    "import matplotlib.pyplot as plt\n",
    "from scipy import stats\n",
    "import seaborn as sns"
   ]
  },
  {
   "cell_type": "code",
   "execution_count": 32,
   "metadata": {},
   "outputs": [],
   "source": [
    "def one_sample_ttest(sample_arr, pop_mean, alpha):\n",
    "    \n",
    "    # check sample distribution if normal\n",
    "    sns.distplot(sample_arr)\n",
    "    \n",
    "    mean = pop_mean\n",
    "    \n",
    "    samp_mean = np.mean(sample_arr)\n",
    "    samp_sigma = np.std(sample_arr)\n",
    "    \n",
    "    degree_freedom = len(sample_arr) - 1\n",
    "    \n",
    "    # critical t value\n",
    "    critical_t = stats.t.ppf(1-alpha, degree_freedom)\n",
    "    \n",
    "    # t value and p value\n",
    "    results = stats.ttest_1samp(a=sample_arr, popmean=mean)\n",
    "\n",
    "    # check if results are significant\n",
    "    \n",
    "    # return results\n",
    "    if (results[0]>critical_t) and (results[1]<alpha):\n",
    "        print (\"Null hypothesis rejected. Results are statistically significant with t-value =\", \n",
    "                round(results[0], 2), \"critical t-value =\", critical_t, \"and p-value =\", np.round((results[1]), 10))\n",
    "    else:\n",
    "        print (\"Null hypothesis is True with t-value =\", \n",
    "                round(results[0], 2), \", critical t-value =\", critical_t, \"and p-value =\", np.round((results[1]), 10))\n",
    "    \n",
    "    return results"
   ]
  },
  {
   "cell_type": "code",
   "execution_count": 13,
   "metadata": {
    "scrolled": true
   },
   "outputs": [
    {
     "data": {
      "text/plain": [
       "array([168.43049434, 198.85193443, 221.74431913, 176.58091047,\n",
       "       179.78501632, 193.5164043 , 176.27403551, 191.70904032,\n",
       "       164.30997693, 174.95233588, 166.41756085, 151.48766098,\n",
       "       170.67505205, 162.51307666, 157.98850845, 177.5960843 ,\n",
       "       159.74479841, 191.38555955, 181.9753204 , 158.26511175,\n",
       "       173.22683489, 179.668409  , 166.11403155, 156.84841257,\n",
       "       125.2283042 , 168.33028202, 143.91765245, 153.45993631,\n",
       "       177.01580487, 185.34808359, 156.07993673, 166.80191331,\n",
       "       164.57086385, 174.96243815, 197.00899126, 195.65454185,\n",
       "       199.60222928, 208.72627446, 186.64161914, 215.08961061,\n",
       "       168.38611923, 176.56707514, 195.62529826, 188.18638912,\n",
       "       188.87812241, 200.11539969, 167.54815493, 168.73368676,\n",
       "       156.40494925, 205.06210133, 175.57040091, 214.80846889,\n",
       "       166.25129306, 152.07627395, 213.08552524, 167.36471452,\n",
       "       170.76324041, 196.64850302, 156.00153253, 166.36164605,\n",
       "       195.5373772 , 178.92323239, 182.71660516, 193.80412771,\n",
       "       188.72300818, 204.65282225, 148.32506823, 156.83576052,\n",
       "       184.82089372, 196.02532668, 164.86555249, 192.51916063,\n",
       "       176.02302683, 142.70629872, 203.67094523, 168.0081343 ,\n",
       "       179.40227262, 160.37214962, 179.31574787, 150.11766343,\n",
       "       134.69600869, 187.95936299, 155.46933865, 190.96509918,\n",
       "       200.24085604, 205.13981774, 190.14026204, 144.17757469,\n",
       "       173.13626153, 147.31138041, 184.99157259, 213.31939967,\n",
       "       183.6279647 , 135.9181901 , 177.04898247, 164.00779606,\n",
       "       159.68127695, 176.77478742, 177.73748443, 200.96522653])"
      ]
     },
     "execution_count": 13,
     "metadata": {},
     "output_type": "execute_result"
    }
   ],
   "source": [
    "sample = np.random.normal(175, 20, 100) \n",
    "sample"
   ]
  },
  {
   "cell_type": "code",
   "execution_count": 33,
   "metadata": {},
   "outputs": [
    {
     "name": "stdout",
     "output_type": "stream",
     "text": [
      "Null hypothesis is True with t-value = -0.69 , critical t-value = 1.6603911559963895 and p-value = 0.4930843566\n"
     ]
    },
    {
     "data": {
      "text/plain": [
       "Ttest_1sampResult(statistic=-0.6879638180212888, pvalue=0.49308435656239646)"
      ]
     },
     "execution_count": 33,
     "metadata": {},
     "output_type": "execute_result"
    },
    {
     "data": {
      "image/png": "[encoded data removed]",
      "text/plain": [
       "<Figure size 432x288 with 1 Axes>"
      ]
     },
     "metadata": {
      "needs_background": "light"
     },
     "output_type": "display_data"
    }
   ],
   "source": [
    "results = one_sample_ttest(sample, 178, 0.05)\n",
    "results"
   ]
  }
 ],
 "metadata": {
  "kernelspec": {
   "display_name": "Python 3",
   "language": "python",
   "name": "python3"
  },
  "language_info": {
   "codemirror_mode": {
    "name": "ipython",
    "version": 3
   },
   "file_extension": ".py",
   "mimetype": "text/x-python",
   "name": "python",
   "nbconvert_exporter": "python",
   "pygments_lexer": "ipython3",
   "version": "3.7.1"
  }
 },
 "nbformat": 4,
 "nbformat_minor": 2
}
