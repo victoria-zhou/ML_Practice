{
 "cells": [
  {
   "cell_type": "code",
   "execution_count": 1,
   "metadata": {},
   "outputs": [],
   "source": [
    "import numpy as np\n",
    "import pandas as pd\n",
    "import matplotlib.pyplot as plt\n",
    "import seaborn as sns"
   ]
  },
  {
   "cell_type": "code",
   "execution_count": null,
   "metadata": {},
   "outputs": [],
   "source": [
    "def compute_mean_normalise(var):\n",
    "    \n",
    "    mean = np.mean(var)\n",
    "    size = len(var)\n",
    "    \n",
    "    var_sum = []\n",
    "    \n",
    "    for i in range(size):\n",
    "        \n",
    "        value = var[i] - mean\n",
    "        \n",
    "        var_sum.append(value)\n",
    "        \n",
    "    return var_sum"
   ]
  },
  {
   "cell_type": "code",
   "execution_count": null,
   "metadata": {},
   "outputs": [],
   "source": [
    "def compute_dot_product(var_x, var_y):\n",
    "    \n",
    "    size = len(var_x)\n",
    "    dot_sum = 0\n",
    "    \n",
    "    for i in range(size):   \n",
    "        product = var_x[i] * var_y[i]\n",
    "        dot_sum += product\n",
    "    \n",
    "    return dot_sum"
   ]
  },
  {
   "cell_type": "code",
   "execution_count": null,
   "metadata": {},
   "outputs": [],
   "source": [
    "def compute_covariance(var_x, var_y):\n",
    "    \n",
    "    size = len(var_x)\n",
    "    \n",
    "    if size != len(var_y):\n",
    "        raise Exception('Sorry, two vectors need to be the same size')\n",
    "    \n",
    "    x_mean_norm = compute_mean_normalise(var_x)\n",
    "    y_mean_norm = compute_mean_normalise(var_y)\n",
    "    \n",
    "    dot_sum = compute_dot_product(x_mean_norm, y_mean_norm)\n",
    "    \n",
    "    return dot_sum/(size - 1)"
   ]
  },
  {
   "cell_type": "code",
   "execution_count": null,
   "metadata": {},
   "outputs": [],
   "source": [
    "def compute_correlation(var_x, var_y):\n",
    "    \n",
    "    size = len(var_x)\n",
    "    \n",
    "    if size != len(var_y):\n",
    "        raise Exception('sorry, size of var_x and var_y need to be the same')\n",
    "      \n",
    "    # calculate nominator of corelation\n",
    "    corr_nominator = (size - 1) * compute_covariance(var_x, var_y)\n",
    "    \n",
    "    # calculate denominator of corelation\n",
    "    var_x_mean_norm = compute_mean_normalise(var_x)\n",
    "    var_y_mean_norm = compute_mean_normalise(var_y)\n",
    "    \n",
    "    x_sqr_sum = np.sum(np.square(var_x_mean_norm))\n",
    "    y_sqr_sum = np.sum(np.square(var_y_mean_norm))\n",
    "    x_y_sqr_prod = x_sqr_sum * y_sqr_sum\n",
    "    \n",
    "    corr_denominator = np.sqrt(x_y_sqr_prod)\n",
    "    \n",
    "    return corr_nominator/corr_denominator"
   ]
  },
  {
   "cell_type": "code",
   "execution_count": 1,
   "metadata": {},
   "outputs": [],
   "source": [
    "def compute_slope(X, Y):\n",
    "    \n",
    "    nominator = np.mean(X) * np.mean(Y) - np.mean(X*Y)\n",
    "    denominator = np.square(np.mean(X)) - np.mean(np.square(X))\n",
    "\n",
    "    return nominator / denominator"
   ]
  },
  {
   "cell_type": "code",
   "execution_count": null,
   "metadata": {},
   "outputs": [],
   "source": [
    "def best_fit_params(X, Y):\n",
    "    \n",
    "    m_hat = compute_slope(X, Y)\n",
    "    \n",
    "    intercept = np.mean(Y) - m_hat * np.mean(X)\n",
    "    \n",
    "    return m_hat, intercept"
   ]
  },
  {
   "cell_type": "code",
   "execution_count": null,
   "metadata": {},
   "outputs": [],
   "source": [
    "def regresssion_line(m, c, X):\n",
    "    \n",
    "    y_hat = m*X + c\n",
    "    \n",
    "    return y_hat"
   ]
  }
 ],
 "metadata": {
  "kernelspec": {
   "display_name": "Python 3",
   "language": "python",
   "name": "python3"
  },
  "language_info": {
   "codemirror_mode": {
    "name": "ipython",
    "version": 3
   },
   "file_extension": ".py",
   "mimetype": "text/x-python",
   "name": "python",
   "nbconvert_exporter": "python",
   "pygments_lexer": "ipython3",
   "version": "3.7.1"
  }
 },
 "nbformat": 4,
 "nbformat_minor": 2
}
